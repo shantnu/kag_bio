{
 "cells": [
  {
   "cell_type": "code",
   "execution_count": 2,
   "metadata": {
    "collapsed": false
   },
   "outputs": [],
   "source": [
    "import pandas as pd\n",
    "import numpy as np\n",
    "from sklearn.ensemble import RandomForestClassifier\n",
    "from sklearn.cross_validation import train_test_split\n",
    "pd.options.mode.chained_assignment = None"
   ]
  },
  {
   "cell_type": "code",
   "execution_count": 35,
   "metadata": {
    "collapsed": false
   },
   "outputs": [
    {
     "name": "stdout",
     "output_type": "stream",
     "text": [
      "3751\n",
      "   Activity        D1        D2    D3   D4        D5        D6        D7  \\\n",
      "0         1  0.000000  0.497009  0.10  0.0  0.132956  0.678031  0.273166   \n",
      "1         1  0.366667  0.606291  0.05  0.0  0.111209  0.803455  0.106105   \n",
      "2         1  0.033300  0.480124  0.00  0.0  0.209791  0.610350  0.356453   \n",
      "3         1  0.000000  0.538825  0.00  0.5  0.196344  0.724230  0.235606   \n",
      "4         0  0.100000  0.517794  0.00  0.0  0.494734  0.781422  0.154361   \n",
      "\n",
      "         D8        D9  ...    D1767  D1768  D1769  D1770  D1771  D1772  D1773  \\\n",
      "0  0.585445  0.743663  ...        0      0      0      0      0      0      0   \n",
      "1  0.411754  0.836582  ...        1      1      1      1      0      1      0   \n",
      "2  0.517720  0.679051  ...        0      0      0      0      0      0      0   \n",
      "3  0.288764  0.805110  ...        0      0      0      0      0      0      0   \n",
      "4  0.303809  0.812646  ...        0      0      0      0      0      0      0   \n",
      "\n",
      "   D1774  D1775  D1776  \n",
      "0      0      0      0  \n",
      "1      0      1      0  \n",
      "2      0      0      0  \n",
      "3      0      0      0  \n",
      "4      0      0      0  \n",
      "\n",
      "[5 rows x 1777 columns]\n"
     ]
    }
   ],
   "source": [
    "data = pd.read_csv(\"train.csv\")\n",
    "print(len(data))\n",
    "print(data.head())\n"
   ]
  },
  {
   "cell_type": "code",
   "execution_count": 36,
   "metadata": {
    "collapsed": false
   },
   "outputs": [
    {
     "name": "stdout",
     "output_type": "stream",
     "text": [
      "         D1        D2    D3   D4        D5        D6        D7        D8  \\\n",
      "0  0.000000  0.497009  0.10  0.0  0.132956  0.678031  0.273166  0.585445   \n",
      "1  0.366667  0.606291  0.05  0.0  0.111209  0.803455  0.106105  0.411754   \n",
      "2  0.033300  0.480124  0.00  0.0  0.209791  0.610350  0.356453  0.517720   \n",
      "3  0.000000  0.538825  0.00  0.5  0.196344  0.724230  0.235606  0.288764   \n",
      "4  0.100000  0.517794  0.00  0.0  0.494734  0.781422  0.154361  0.303809   \n",
      "\n",
      "         D9       D10  ...    D1767  D1768  D1769  D1770  D1771  D1772  D1773  \\\n",
      "0  0.743663  0.243144  ...        0      0      0      0      0      0      0   \n",
      "1  0.836582  0.106480  ...        1      1      1      1      0      1      0   \n",
      "2  0.679051  0.352308  ...        0      0      0      0      0      0      0   \n",
      "3  0.805110  0.208989  ...        0      0      0      0      0      0      0   \n",
      "4  0.812646  0.125177  ...        0      0      0      0      0      0      0   \n",
      "\n",
      "   D1774  D1775  D1776  \n",
      "0      0      0      0  \n",
      "1      0      1      0  \n",
      "2      0      0      0  \n",
      "3      0      0      0  \n",
      "4      0      0      0  \n",
      "\n",
      "[5 rows x 1776 columns]\n",
      "0    1\n",
      "1    1\n",
      "2    1\n",
      "3    1\n",
      "4    0\n",
      "Name: Activity, dtype: int64\n"
     ]
    }
   ],
   "source": [
    "data_molecule = data.drop('Activity', 1)\n",
    "data_activity = data['Activity']\n",
    "\n",
    "print(data_molecule.head())\n",
    "print(data_activity.head())\n"
   ]
  },
  {
   "cell_type": "code",
   "execution_count": 37,
   "metadata": {
    "collapsed": false
   },
   "outputs": [],
   "source": [
    "x_train, x_test, y_train, y_test = train_test_split(data_molecule, data_activity, test_size=0.33, random_state=42)"
   ]
  },
  {
   "cell_type": "code",
   "execution_count": 38,
   "metadata": {
    "collapsed": false
   },
   "outputs": [
    {
     "data": {
      "text/plain": [
       "RandomForestClassifier(bootstrap=True, compute_importances=None,\n",
       "            criterion='gini', max_depth=None, max_features='auto',\n",
       "            max_leaf_nodes=None, min_density=None, min_samples_leaf=1,\n",
       "            min_samples_split=2, n_estimators=100, n_jobs=1,\n",
       "            oob_score=False, random_state=None, verbose=0)"
      ]
     },
     "execution_count": 38,
     "metadata": {},
     "output_type": "execute_result"
    }
   ],
   "source": [
    "rf = RandomForestClassifier(n_estimators=100)\n",
    "rf.fit(x_train, y_train)"
   ]
  },
  {
   "cell_type": "code",
   "execution_count": 39,
   "metadata": {
    "collapsed": false
   },
   "outputs": [
    {
     "data": {
      "text/plain": [
       "0.78513731825525035"
      ]
     },
     "execution_count": 39,
     "metadata": {},
     "output_type": "execute_result"
    }
   ],
   "source": [
    "rf.score(x_test, y_test)\n"
   ]
  },
  {
   "cell_type": "code",
   "execution_count": null,
   "metadata": {
    "collapsed": true
   },
   "outputs": [],
   "source": []
  }
 ],
 "metadata": {
  "kernelspec": {
   "display_name": "Python 3",
   "language": "python",
   "name": "python3"
  },
  "language_info": {
   "codemirror_mode": {
    "name": "ipython",
    "version": 3
   },
   "file_extension": ".py",
   "mimetype": "text/x-python",
   "name": "python",
   "nbconvert_exporter": "python",
   "pygments_lexer": "ipython3",
   "version": "3.4.3"
  }
 },
 "nbformat": 4,
 "nbformat_minor": 0
}
